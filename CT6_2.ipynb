{
  "nbformat": 4,
  "nbformat_minor": 0,
  "metadata": {
    "colab": {
      "provenance": [],
      "authorship_tag": "ABX9TyN6Y9Y08CeiXnDyL4/pYVxM",
      "include_colab_link": true
    },
    "kernelspec": {
      "name": "python3",
      "display_name": "Python 3"
    },
    "language_info": {
      "name": "python"
    }
  },
  "cells": [
    {
      "cell_type": "markdown",
      "metadata": {
        "id": "view-in-github",
        "colab_type": "text"
      },
      "source": [
        "<a href=\"https://colab.research.google.com/github/ku0-0/first/blob/main/CT6_2.ipynb\" target=\"_parent\"><img src=\"https://colab.research.google.com/assets/colab-badge.svg\" alt=\"Open In Colab\"/></a>"
      ]
    },
    {
      "cell_type": "markdown",
      "source": [
        "학생 10의 성적을 입력 받아 평균을 계산하는 알고리즘을 의사코드로 표현해보자. "
      ],
      "metadata": {
        "id": "L2hNP_0DXYLk"
      }
    },
    {
      "cell_type": "code",
      "execution_count": 4,
      "metadata": {
        "colab": {
          "base_uri": "https://localhost:8080/"
        },
        "id": "leGFpD61TW4I",
        "outputId": "8dcccdfc-ebd4-42d9-d999-c858390edac4"
      },
      "outputs": [
        {
          "output_type": "stream",
          "name": "stdout",
          "text": [
            "성적을 입력하시오.: 100\n",
            "성적을 입력하시오.: 100\n",
            "성적을 입력하시오.: 100\n",
            "성적을 입력하시오.: 100\n",
            "성적을 입력하시오.: 100\n",
            "성적을 입력하시오.: 100\n",
            "성적을 입력하시오.: 100\n",
            "성적을 입력하시오.: 100\n",
            "성적을 입력하시오.: 100\n",
            "성적을 입력하시오.: 100\n",
            "평균= 100.0\n"
          ]
        }
      ],
      "source": [
        "total=0                                           # total(변수) 초기 값: 0\n",
        "counter=1                                         # counter(반복) 1부터 시작\n",
        "while counter <=10:                               # counter 10보다 작거나 같으면 종료, 콜론사용.\n",
        "    grade=float(input('성적을 입력하시오.: '))    # 사용자에게 grade를 실수형으로 입력 받아라, 탭으로 들여쓰기 (종속해제)\n",
        "    total=grade+total                             # total변수에 입력값, total의 핪을 저장 (누적)\n",
        "    counter=counter+1                             # 반복할 때 마다 반복 횟수 1증가 \n",
        "average=total/10                                  # average변수에 total을 10으로 나눈 평균값을 저장하라\n",
        "print('평균=', average)                           # 평균과 변수 average 값을 화면에 출력하라\n"
      ]
    },
    {
      "cell_type": "code",
      "source": [
        "total=0; counter=1\n",
        "while counter <=10: grade=float(input('성적을 입력하시오.: '));total=grade+total; counter=counter+1\n",
        "average=total/10; print('평균=', average)"
      ],
      "metadata": {
        "colab": {
          "base_uri": "https://localhost:8080/"
        },
        "id": "pPZClJfDdeJK",
        "outputId": "531cb584-4f48-4a0e-89c8-4280a0d1fe23"
      },
      "execution_count": null,
      "outputs": [
        {
          "name": "stdout",
          "output_type": "stream",
          "text": [
            "성적을 입력하시오.: 100\n"
          ]
        }
      ]
    }
  ]
}